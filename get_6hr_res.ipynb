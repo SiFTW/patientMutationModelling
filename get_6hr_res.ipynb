{
  "cells": [
    {
      "cell_type": "code",
      "source": [
        "################################################\n",
        "### all the packages we need are defined here ##\n",
        "################################################\n",
        "using Logging\n",
        "using Dates\n",
        "using CSV\n",
        "using DataFrames\n",
        "using JLD2\n",
        "using FileIO\n",
        "using DataFrames\n",
        "using Plots \n",
        "using CSV\n",
        "using Distributions\n",
        "using Random\n",
        "using Tables\n",
        "using DelimitedFiles\n",
        "using BSON: @save, @load"
      ],
      "outputs": [],
      "execution_count": 1,
      "metadata": {}
    },
    {
      "cell_type": "code",
      "source": [
        "mutable struct cell\n",
        "    generation::Int64\n",
        "    ID::Int64\n",
        "    motherCellID::Int64\n",
        "    founderCellID::Int64\n",
        "    ODEFile::String\n",
        "    fate::Int64 #0 = unknown, 1 = division, 2 = death\n",
        "    tBirth::Float64\n",
        "    tDeath::Float64\n",
        "    solutionObject #the entire solution object. If you don't need this comment it out for efficiency.\n",
        "    y0::Matrix{Float64} #initial conditions.\n",
        "    yCoord::Float64 #for plotting lineage trees\n",
        "    leftDaughterID::Int64\n",
        "    rightDaughterID::Int64\n",
        "    parameterList\n",
        "    parameterNameList::Vector{String}\n",
        "    cellsRepresented::Int64\n",
        "    #newSwitch::Int64\n",
        "end    "
      ],
      "outputs": [],
      "execution_count": 2,
      "metadata": {}
    },
    {
      "cell_type": "code",
      "source": [
        "## add path to folder containing a cell from a recent simulation that will be used to get column names\n",
        "folder = #pathToFolder\n",
        "\n",
        "function createEmptyCellDF(folder)\n",
        "    cell_df=DataFrame()\n",
        "\n",
        "    @load folder*\"/cell_1.jld2\" thisCell\n",
        "    sixhr_df = thisCell.solutionObject[(thisCell.solutionObject.timestamp .== 361.0), :]\n",
        "    sixhr_df = sixhr_df[!, 2:195]\n",
        "    # add patient ID\n",
        "    insertcols!(sixhr_df, 1, :patient_ID => \"DLBCL-LS1065\")\n",
        "    delete!(sixhr_df, [1])\n",
        "    return(sixhr_df)\n",
        "end"
      ],
      "outputs": [
        {
          "output_type": "execute_result",
          "execution_count": 3,
          "data": {
            "text/plain": "createEmptyCellDF (generic function with 1 method)"
          },
          "metadata": {}
        }
      ],
      "execution_count": 3,
      "metadata": {}
    },
    {
      "cell_type": "code",
      "source": [
        "function getFounderCells(files, folder, sixhour_df, condition)\n",
        "    for file in files\n",
        "        count=length(files)\n",
        "        wrong=0\n",
        "        correctCell=\"cell_1.jld2\"\n",
        "        try\n",
        "            @load folder*\"/\"*file*\"/\"*condition*\"/processedCells/cell_1.jld2\" thisCell \n",
        "            if thisCell.founderCellID!=1 || thisCell.generation!=1\n",
        "                println(\"cell missmatch in patient: \"*file)\n",
        "                println(string(thisCell.founderCellID))\n",
        "                println(string(thisCell.generation))\n",
        "                thisPatFiles=readdir(folder*\"/\"*file*\"/\"*condition*\"/processedCells/\")\n",
        "                for thisPatFile in thisPatFiles\n",
        "                    @load folder*\"/\"*file*\"/\"*condition*\"/processedCells/\"*thisPatFile thisCell \n",
        "                    if thisCell.founderCellID==1 && thisCell.generation==1\n",
        "                        println(\"found true cell 1: \"*thisPatFile)\n",
        "                        correctCell=thisPatFile\n",
        "                        continue\n",
        "                    end\n",
        "                end\n",
        "                wrong=wrong+1\n",
        "            end\n",
        "       @load folder*\"/\"*file*\"/\"*condition*\"/processedCells/\"*correctCell thisCell \n",
        "        temp_df = thisCell.solutionObject[(thisCell.solutionObject.timestamp .== 361.0), :]\n",
        "        temp_df = temp_df[!, 2:195]\n",
        "        # add patient ID\n",
        "        insertcols!(temp_df, 1, :patient_ID => file)\n",
        "        append!(sixhour_df, temp_df)\n",
        "        catch\n",
        "            println(\"couldn't process patient: \"*file)\n",
        "        end\n",
        "    end\n",
        "    return(sixhour_df)\n",
        "end"
      ],
      "outputs": [
        {
          "output_type": "execute_result",
          "execution_count": 4,
          "data": {
            "text/plain": "getFounderCells (generic function with 1 method)"
          },
          "metadata": {}
        }
      ],
      "execution_count": 4,
      "metadata": {}
    },
    {
      "cell_type": "code",
      "source": [
        "data_6h = createEmptyCellDF(folder)"
      ],
      "outputs": [
        {
          "output_type": "execute_result",
          "execution_count": 9,
          "data": {
            "text/html": "<div class=\"data-frame\"><p>0 rows × 195 columns (omitted printing of 187 columns)</p><table class=\"data-frame\"><thead><tr><th></th><th>patient_ID</th><th>cMyct</th><th>RelAnp50n</th><th>cRelnp50n</th><th>Bcl2t</th><th>Cycdt</th><th>tcRel</th><th>RelAnp52n</th></tr><tr><th></th><th title=\"String\">String</th><th title=\"Float64\">Float64</th><th title=\"Float64\">Float64</th><th title=\"Float64\">Float64</th><th title=\"Float64\">Float64</th><th title=\"Float64\">Float64</th><th title=\"Float64\">Float64</th><th title=\"Float64\">Float64</th></tr></thead><tbody></tbody></table></div>",
            "text/latex": "\\begin{tabular}{r|ccccccccc}\n\t& patient\\_ID & cMyct & RelAnp50n & cRelnp50n & Bcl2t & Cycdt & tcRel & RelAnp52n & \\\\\n\t\\hline\n\t& String & Float64 & Float64 & Float64 & Float64 & Float64 & Float64 & Float64 & \\\\\n\t\\hline\n\\end{tabular}\n",
            "text/plain": "\u001b[1m0×195 DataFrame\u001b[0m"
          },
          "metadata": {}
        }
      ],
      "execution_count": 9,
      "metadata": {
        "scrolled": true
      }
    },
    {
      "cell_type": "code",
      "source": [
        "# read the directory where the simulation data is saved to generate a list of patient IDs\n",
        "files = readdir(folder)"
      ],
      "outputs": [
        {
          "output_type": "execute_result",
          "execution_count": 10,
          "data": {
            "text/plain": "95-element Vector{String}:\n \"DIRN3501\"\n \"DIRN3502\"\n \"DIRN3503\"\n \"DIRN3504\"\n \"DIRN3505\"\n \"DIRN3506\"\n \"DIRN3507\"\n \"DIRN3510\"\n \"DIRN3512\"\n \"DIRN3513\"\n \"DIRN3514\"\n \"DIRN3517\"\n \"DIRN3521\"\n ⋮\n \"DIRN3668\"\n \"DIRN3672\"\n \"DIRN3676\"\n \"DIRN3678\"\n \"DIRN3680\"\n \"DIRN3681\"\n \"DIRN3684\"\n \"DIRN3686\"\n \"DIRN3691\"\n \"DIRN3694\"\n \"DIRN3696\"\n \"DIRN3697\""
          },
          "metadata": {}
        }
      ],
      "execution_count": 10,
      "metadata": {
        "scrolled": true
      }
    },
    {
      "cell_type": "code",
      "source": [
        "data_6h = getFounderCells(files, folder, data_comb_6h, \"all_mut\")"
      ],
      "outputs": [
        {
          "output_type": "execute_result",
          "execution_count": 12,
          "data": {
            "text/html": "<div class=\"data-frame\"><p>95 rows × 195 columns (omitted printing of 187 columns)</p><table class=\"data-frame\"><thead><tr><th></th><th>patient_ID</th><th>cMyct</th><th>RelAnp50n</th><th>cRelnp50n</th><th>Bcl2t</th><th>Cycdt</th><th>tcRel</th><th>RelAnp52n</th></tr><tr><th></th><th title=\"String\">String</th><th title=\"Float64\">Float64</th><th title=\"Float64\">Float64</th><th title=\"Float64\">Float64</th><th title=\"Float64\">Float64</th><th title=\"Float64\">Float64</th><th title=\"Float64\">Float64</th><th title=\"Float64\">Float64</th></tr></thead><tbody><tr><th>1</th><td>DIRN3501</td><td>6.80517</td><td>15.7504</td><td>5.55126</td><td>88.5857</td><td>0.100763</td><td>0.0386653</td><td>1.46893</td></tr><tr><th>2</th><td>DIRN3502</td><td>10.4532</td><td>24.1287</td><td>10.4459</td><td>88.2643</td><td>0.144227</td><td>0.0440746</td><td>1.86023</td></tr><tr><th>3</th><td>DIRN3503</td><td>8.41872</td><td>19.6414</td><td>7.6262</td><td>74.8072</td><td>0.120168</td><td>0.0413367</td><td>1.63954</td></tr><tr><th>4</th><td>DIRN3504</td><td>8.41836</td><td>19.6405</td><td>7.62512</td><td>104.09</td><td>0.120166</td><td>0.0413075</td><td>1.63951</td></tr><tr><th>5</th><td>DIRN3505</td><td>8.41863</td><td>19.6416</td><td>7.62555</td><td>74.8067</td><td>0.120167</td><td>0.0413075</td><td>1.63959</td></tr><tr><th>6</th><td>DIRN3506</td><td>6.80517</td><td>15.7504</td><td>5.55126</td><td>88.5857</td><td>0.100763</td><td>0.0386653</td><td>1.46893</td></tr><tr><th>7</th><td>DIRN3507</td><td>15.1088</td><td>33.2207</td><td>18.0432</td><td>121.739</td><td>0.20068</td><td>0.0454401</td><td>2.46057</td></tr><tr><th>8</th><td>DIRN3510</td><td>6.80562</td><td>15.7503</td><td>5.55301</td><td>64.4727</td><td>0.100766</td><td>0.0386937</td><td>1.46884</td></tr><tr><th>9</th><td>DIRN3512</td><td>8.41863</td><td>19.6416</td><td>7.62555</td><td>74.8067</td><td>0.120167</td><td>0.0413075</td><td>1.63959</td></tr><tr><th>10</th><td>DIRN3513</td><td>10.4531</td><td>24.1275</td><td>10.4454</td><td>124.278</td><td>0.144227</td><td>0.0440745</td><td>1.86015</td></tr><tr><th>11</th><td>DIRN3514</td><td>6.80517</td><td>15.7504</td><td>5.55126</td><td>88.5857</td><td>0.100763</td><td>0.0386653</td><td>1.46893</td></tr><tr><th>12</th><td>DIRN3517</td><td>10.4531</td><td>24.1275</td><td>10.4454</td><td>124.278</td><td>0.144227</td><td>0.0440745</td><td>1.86015</td></tr><tr><th>13</th><td>DIRN3521</td><td>10.4532</td><td>24.1287</td><td>10.4459</td><td>88.2643</td><td>0.144227</td><td>0.0440746</td><td>1.86023</td></tr><tr><th>14</th><td>DIRN3523</td><td>6.80524</td><td>15.7503</td><td>5.55128</td><td>64.4697</td><td>0.100763</td><td>0.0386699</td><td>1.46891</td></tr><tr><th>15</th><td>DIRN3524</td><td>8.41863</td><td>19.6416</td><td>7.62555</td><td>74.8067</td><td>0.120167</td><td>0.0413075</td><td>1.63959</td></tr><tr><th>16</th><td>DIRN3526</td><td>8.41863</td><td>19.6416</td><td>7.62555</td><td>74.8067</td><td>0.120167</td><td>0.0413075</td><td>1.63959</td></tr><tr><th>17</th><td>DIRN3527</td><td>10.4531</td><td>24.1275</td><td>10.4454</td><td>124.278</td><td>0.144227</td><td>0.0440745</td><td>1.86015</td></tr><tr><th>18</th><td>DIRN3532</td><td>6.80517</td><td>15.7504</td><td>5.55126</td><td>88.5857</td><td>0.100763</td><td>0.0386653</td><td>1.46893</td></tr><tr><th>19</th><td>DIRN3536</td><td>6.80517</td><td>15.7504</td><td>5.55126</td><td>88.5857</td><td>0.100763</td><td>0.0386653</td><td>1.46893</td></tr><tr><th>20</th><td>DIRN3538</td><td>10.4532</td><td>24.1287</td><td>10.4459</td><td>88.2643</td><td>0.144227</td><td>0.0440746</td><td>1.86023</td></tr><tr><th>21</th><td>DIRN3539</td><td>8.41832</td><td>19.6411</td><td>7.62534</td><td>74.8058</td><td>0.120167</td><td>0.0413075</td><td>1.63955</td></tr><tr><th>22</th><td>DIRN3540</td><td>6.80517</td><td>15.7504</td><td>5.55126</td><td>88.5857</td><td>0.100763</td><td>0.0386653</td><td>1.46893</td></tr><tr><th>23</th><td>DIRN3541</td><td>6.8056</td><td>15.7507</td><td>5.55313</td><td>88.5905</td><td>0.100766</td><td>0.0386937</td><td>1.46887</td></tr><tr><th>24</th><td>DIRN3542</td><td>12.7667</td><td>28.8255</td><td>13.9949</td><td>104.341</td><td>0.171746</td><td>0.0468055</td><td>2.13746</td></tr><tr><th>25</th><td>DIRN3546</td><td>10.2079</td><td>15.7503</td><td>5.55123</td><td>64.4697</td><td>0.100763</td><td>0.0386653</td><td>1.46892</td></tr><tr><th>26</th><td>DIRN3549</td><td>10.4532</td><td>24.1287</td><td>10.4459</td><td>88.2643</td><td>0.144227</td><td>0.0440746</td><td>1.86023</td></tr><tr><th>27</th><td>DIRN3553</td><td>6.80517</td><td>15.7504</td><td>5.55126</td><td>88.5857</td><td>0.100763</td><td>0.0386653</td><td>1.46893</td></tr><tr><th>28</th><td>DIRN3554</td><td>10.4539</td><td>24.1287</td><td>10.45</td><td>88.2693</td><td>0.144231</td><td>0.0441994</td><td>1.86004</td></tr><tr><th>29</th><td>DIRN3555</td><td>10.4532</td><td>24.1287</td><td>10.4459</td><td>88.2643</td><td>0.144227</td><td>0.0440746</td><td>1.86023</td></tr><tr><th>30</th><td>DIRN3556</td><td>8.41863</td><td>19.6416</td><td>7.62555</td><td>74.8067</td><td>0.120167</td><td>0.0413075</td><td>1.63959</td></tr><tr><th>&vellip;</th><td>&vellip;</td><td>&vellip;</td><td>&vellip;</td><td>&vellip;</td><td>&vellip;</td><td>&vellip;</td><td>&vellip;</td><td>&vellip;</td></tr></tbody></table></div>",
            "text/latex": "\\begin{tabular}{r|ccccccccc}\n\t& patient\\_ID & cMyct & RelAnp50n & cRelnp50n & Bcl2t & Cycdt & tcRel & RelAnp52n & \\\\\n\t\\hline\n\t& String & Float64 & Float64 & Float64 & Float64 & Float64 & Float64 & Float64 & \\\\\n\t\\hline\n\t1 & DIRN3501 & 6.80517 & 15.7504 & 5.55126 & 88.5857 & 0.100763 & 0.0386653 & 1.46893 & $\\dots$ \\\\\n\t2 & DIRN3502 & 10.4532 & 24.1287 & 10.4459 & 88.2643 & 0.144227 & 0.0440746 & 1.86023 & $\\dots$ \\\\\n\t3 & DIRN3503 & 8.41872 & 19.6414 & 7.6262 & 74.8072 & 0.120168 & 0.0413367 & 1.63954 & $\\dots$ \\\\\n\t4 & DIRN3504 & 8.41836 & 19.6405 & 7.62512 & 104.09 & 0.120166 & 0.0413075 & 1.63951 & $\\dots$ \\\\\n\t5 & DIRN3505 & 8.41863 & 19.6416 & 7.62555 & 74.8067 & 0.120167 & 0.0413075 & 1.63959 & $\\dots$ \\\\\n\t6 & DIRN3506 & 6.80517 & 15.7504 & 5.55126 & 88.5857 & 0.100763 & 0.0386653 & 1.46893 & $\\dots$ \\\\\n\t7 & DIRN3507 & 15.1088 & 33.2207 & 18.0432 & 121.739 & 0.20068 & 0.0454401 & 2.46057 & $\\dots$ \\\\\n\t8 & DIRN3510 & 6.80562 & 15.7503 & 5.55301 & 64.4727 & 0.100766 & 0.0386937 & 1.46884 & $\\dots$ \\\\\n\t9 & DIRN3512 & 8.41863 & 19.6416 & 7.62555 & 74.8067 & 0.120167 & 0.0413075 & 1.63959 & $\\dots$ \\\\\n\t10 & DIRN3513 & 10.4531 & 24.1275 & 10.4454 & 124.278 & 0.144227 & 0.0440745 & 1.86015 & $\\dots$ \\\\\n\t11 & DIRN3514 & 6.80517 & 15.7504 & 5.55126 & 88.5857 & 0.100763 & 0.0386653 & 1.46893 & $\\dots$ \\\\\n\t12 & DIRN3517 & 10.4531 & 24.1275 & 10.4454 & 124.278 & 0.144227 & 0.0440745 & 1.86015 & $\\dots$ \\\\\n\t13 & DIRN3521 & 10.4532 & 24.1287 & 10.4459 & 88.2643 & 0.144227 & 0.0440746 & 1.86023 & $\\dots$ \\\\\n\t14 & DIRN3523 & 6.80524 & 15.7503 & 5.55128 & 64.4697 & 0.100763 & 0.0386699 & 1.46891 & $\\dots$ \\\\\n\t15 & DIRN3524 & 8.41863 & 19.6416 & 7.62555 & 74.8067 & 0.120167 & 0.0413075 & 1.63959 & $\\dots$ \\\\\n\t16 & DIRN3526 & 8.41863 & 19.6416 & 7.62555 & 74.8067 & 0.120167 & 0.0413075 & 1.63959 & $\\dots$ \\\\\n\t17 & DIRN3527 & 10.4531 & 24.1275 & 10.4454 & 124.278 & 0.144227 & 0.0440745 & 1.86015 & $\\dots$ \\\\\n\t18 & DIRN3532 & 6.80517 & 15.7504 & 5.55126 & 88.5857 & 0.100763 & 0.0386653 & 1.46893 & $\\dots$ \\\\\n\t19 & DIRN3536 & 6.80517 & 15.7504 & 5.55126 & 88.5857 & 0.100763 & 0.0386653 & 1.46893 & $\\dots$ \\\\\n\t20 & DIRN3538 & 10.4532 & 24.1287 & 10.4459 & 88.2643 & 0.144227 & 0.0440746 & 1.86023 & $\\dots$ \\\\\n\t21 & DIRN3539 & 8.41832 & 19.6411 & 7.62534 & 74.8058 & 0.120167 & 0.0413075 & 1.63955 & $\\dots$ \\\\\n\t22 & DIRN3540 & 6.80517 & 15.7504 & 5.55126 & 88.5857 & 0.100763 & 0.0386653 & 1.46893 & $\\dots$ \\\\\n\t23 & DIRN3541 & 6.8056 & 15.7507 & 5.55313 & 88.5905 & 0.100766 & 0.0386937 & 1.46887 & $\\dots$ \\\\\n\t24 & DIRN3542 & 12.7667 & 28.8255 & 13.9949 & 104.341 & 0.171746 & 0.0468055 & 2.13746 & $\\dots$ \\\\\n\t25 & DIRN3546 & 10.2079 & 15.7503 & 5.55123 & 64.4697 & 0.100763 & 0.0386653 & 1.46892 & $\\dots$ \\\\\n\t26 & DIRN3549 & 10.4532 & 24.1287 & 10.4459 & 88.2643 & 0.144227 & 0.0440746 & 1.86023 & $\\dots$ \\\\\n\t27 & DIRN3553 & 6.80517 & 15.7504 & 5.55126 & 88.5857 & 0.100763 & 0.0386653 & 1.46893 & $\\dots$ \\\\\n\t28 & DIRN3554 & 10.4539 & 24.1287 & 10.45 & 88.2693 & 0.144231 & 0.0441994 & 1.86004 & $\\dots$ \\\\\n\t29 & DIRN3555 & 10.4532 & 24.1287 & 10.4459 & 88.2643 & 0.144227 & 0.0440746 & 1.86023 & $\\dots$ \\\\\n\t30 & DIRN3556 & 8.41863 & 19.6416 & 7.62555 & 74.8067 & 0.120167 & 0.0413075 & 1.63959 & $\\dots$ \\\\\n\t$\\dots$ & $\\dots$ & $\\dots$ & $\\dots$ & $\\dots$ & $\\dots$ & $\\dots$ & $\\dots$ & $\\dots$ &  \\\\\n\\end{tabular}\n",
            "text/plain": "\u001b[1m95×195 DataFrame\u001b[0m\n\u001b[1m Row \u001b[0m│\u001b[1m patient_ID \u001b[0m\u001b[1m cMyct    \u001b[0m\u001b[1m RelAnp50n \u001b[0m\u001b[1m cRelnp50n \u001b[0m\u001b[1m Bcl2t    \u001b[0m\u001b[1m Cycdt    \u001b[0m\u001b[1m tcRel  \u001b[0m ⋯\n\u001b[1m     \u001b[0m│\u001b[90m String     \u001b[0m\u001b[90m Float64  \u001b[0m\u001b[90m Float64   \u001b[0m\u001b[90m Float64   \u001b[0m\u001b[90m Float64  \u001b[0m\u001b[90m Float64  \u001b[0m\u001b[90m Float64\u001b[0m ⋯\n─────┼──────────────────────────────────────────────────────────────────────────\n   1 │ DIRN3501     6.80517    15.7504    5.55126   88.5857  0.100763  0.03866 ⋯\n   2 │ DIRN3502    10.4532     24.1287   10.4459    88.2643  0.144227  0.04407\n   3 │ DIRN3503     8.41872    19.6414    7.6262    74.8072  0.120168  0.04133\n   4 │ DIRN3504     8.41836    19.6405    7.62512  104.09    0.120166  0.04130\n   5 │ DIRN3505     8.41863    19.6416    7.62555   74.8067  0.120167  0.04130 ⋯\n   6 │ DIRN3506     6.80517    15.7504    5.55126   88.5857  0.100763  0.03866\n   7 │ DIRN3507    15.1088     33.2207   18.0432   121.739   0.20068   0.04544\n   8 │ DIRN3510     6.80562    15.7503    5.55301   64.4727  0.100766  0.03869\n   9 │ DIRN3512     8.41863    19.6416    7.62555   74.8067  0.120167  0.04130 ⋯\n  10 │ DIRN3513    10.4531     24.1275   10.4454   124.278   0.144227  0.04407\n  11 │ DIRN3514     6.80517    15.7504    5.55126   88.5857  0.100763  0.03866\n  ⋮  │     ⋮          ⋮          ⋮          ⋮         ⋮         ⋮          ⋮   ⋱\n  86 │ DIRN3676     8.41863    19.6416    7.62555   74.8067  0.120167  0.04130\n  87 │ DIRN3678    10.4528     24.1273   10.4453    88.2628  0.144226  0.04407 ⋯\n  88 │ DIRN3680     8.41863    19.6416    7.62555   74.8067  0.120167  0.04130\n  89 │ DIRN3681     8.41836    19.6405    7.62512  104.09    0.120166  0.04130\n  90 │ DIRN3684    12.7698     28.8252   14.0101   104.365   0.171769  0.04712\n  91 │ DIRN3686     6.80517    15.7504    5.55126   88.5857  0.100763  0.03866 ⋯\n  92 │ DIRN3691     6.80517    15.7504    5.55126   88.5857  0.100763  0.03866\n  93 │ DIRN3694     6.80517    15.7504    5.55126   88.5857  0.100763  0.03866\n  94 │ DIRN3696    10.4532     24.1287   10.4459    88.2643  0.144227  0.04407\n  95 │ DIRN3697    12.7667     28.8255   13.9949   104.341   0.171746  0.04680 ⋯\n\u001b[36m                                                 189 columns and 74 rows omitted\u001b[0m"
          },
          "metadata": {}
        }
      ],
      "execution_count": 12,
      "metadata": {
        "scrolled": true
      }
    },
    {
      "cell_type": "code",
      "source": [
        "# write data to disk\n",
        "CSV.write(\"data_6h.csv\", data_6h)"
      ],
      "outputs": [
        {
          "output_type": "execute_result",
          "execution_count": 13,
          "data": {
            "text/plain": "\"DanCT_combined_6h.csv\""
          },
          "metadata": {}
        }
      ],
      "execution_count": 13,
      "metadata": {
        "scrolled": true,
        "tags": []
      }
    },
    {
      "cell_type": "code",
      "source": [
        "files = unique(C2_single_strict.ParamAmount)"
      ],
      "outputs": [
        {
          "output_type": "execute_result",
          "execution_count": 60,
          "data": {
            "text/plain": "16-element Vector{String}:\n \"k1_s_Blimp1-differentiation_0.5\"\n \"k1_mycTsl-linking_1.5\"\n \"nik_deg_mod-NFkB_0.5\"\n \"k2_scalingNumber-NFkB_1.5\"\n \"k1_bcl2Exp-linking_1.5\"\n \"k1_26-cellCycle_0.5\"\n \"kmax_IkBaSynth-NFkB_0.5\"\n \"k1_s_IRF4-linking_0.5\"\n \"k1_76-apoptosis_0.5\"\n \"k1_e_pax5-differentiation_0.5\"\n \"k1_s_Bcl6-differentiation_1.5\"\n \"k2_5-cellCycle_0.5\"\n \"k1_s_IRF4-linking_1.5\"\n \"k1_mycExp-linking_1.5\"\n \"k1_19-cellCycle_0.5\"\n \"k1_bcl2Exp-linking_0.5\""
          },
          "metadata": {}
        }
      ],
      "execution_count": 60,
      "metadata": {}
    },
    {
      "cell_type": "code",
      "source": [
        "### assign 6h data to patients with single mutation\n",
        "    npats_cumulative = 0\n",
        "for i in 1:nrow(C2_single_6hrdf)\n",
        "    param_df = DataFrame(C2_single_6hrdf[i, :])\n",
        "    patients_df = C2_single_strict[(C2_single_strict.ParamAmount .== param_df.patient_ID),:]\n",
        "    npats = nrow(patients_df)\n",
        "    repeat!(param_df, npats)\n",
        "    param_df[:, 1] = patients_df.PID\n",
        "    append!(C2_strict_single_6h, param_df)\n",
        "    npats_cumulative = npats_cumulative + npats\n",
        "    println(npats_cumulative)\n",
        "end"
      ],
      "outputs": [
        {
          "output_type": "stream",
          "name": "stdout",
          "text": [
            "15\n",
            "16\n",
            "52\n",
            "146\n",
            "200\n",
            "225\n",
            "243\n",
            "258\n",
            "259\n",
            "261\n",
            "262\n",
            "310\n",
            "311\n",
            "314\n",
            "315\n"
          ]
        }
      ],
      "execution_count": 71,
      "metadata": {}
    },
    {
      "cell_type": "code",
      "source": [],
      "outputs": [],
      "execution_count": null,
      "metadata": {}
    }
  ],
  "metadata": {
    "kernelspec": {
      "display_name": "Julia 1.6.2",
      "language": "julia",
      "name": "julia-1.6"
    },
    "language_info": {
      "file_extension": ".jl",
      "mimetype": "application/julia",
      "name": "julia",
      "version": "1.6.2"
    },
    "nteract": {
      "version": "0.25.1"
    }
  },
  "nbformat": 4,
  "nbformat_minor": 5
}