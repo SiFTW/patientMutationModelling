{
 "cells": [
  {
   "cell_type": "code",
   "execution_count": null,
   "id": "2f317e8b",
   "metadata": {},
   "outputs": [],
   "source": [
    "using HTTP\n",
    "using JSON3\n",
    "using CSV\n",
    "using DataFrames\n",
    "using ProgressMeter"
   ]
  },
  {
   "cell_type": "code",
   "execution_count": null,
   "id": "3488723b",
   "metadata": {},
   "outputs": [],
   "source": [
    "### load single nucleotide variants\n",
    "snvs = DataFrame(CSV.File(\"snvs.csv\"))"
   ]
  },
  {
   "cell_type": "code",
   "execution_count": null,
   "id": "cbeb642e",
   "metadata": {},
   "outputs": [],
   "source": [
    "## each snv should be in the form: \n",
    "# single letter code for the original amino acid - location of the snv - single letter code for the new amino acid\n",
    "# eg. L123R\n",
    "# OncoKB might tolerate other formats but it's best to stick to this format if possible"
   ]
  },
  {
   "cell_type": "code",
   "execution_count": null,
   "id": "731cf7cd",
   "metadata": {},
   "outputs": [],
   "source": [
    "#create an empty Dataframe with the headings SNV and Annotation\n",
    "outputDF = DataFrame([[],[],[]], [\"SNV\", \"Annotation\",\"Effect\"])\n",
    "#for every row in the input\n",
    "\n",
    "@showprogress dt=1 desc=\"Getting Annotations...\" for row in eachrow(snvs)\n",
    "    gene,alteration=split(row.\"SNV Name\",\":\")\n",
    "    println(\"gene, alt = \",gene,alteration)\n",
    "    # if the snv starts with p. run the following line of code, otherwise comment it out\n",
    "    alteration=alteration[3:end]\n",
    "    # Build the JSON query including the appropriate headers and API key\n",
    "    res = HTTP.get(\"https://www.oncokb.org/api/v1/annotate/mutations/byProteinChange\", \n",
    "    [\"Accept\" => \"application/json\", \"Authorization\" => \"Bearer *********YOURKEYHERE*********\"],\n",
    "    query=[\"hugoSymbol\" => gene, \"alteration\" => alteration])\n",
    "\n",
    "    # read in the body of the results\n",
    "    result = JSON3.read(res.body)\n",
    "    # create an output string of the format GENENAME:ALTERATION (without the p. bit)\n",
    "    outputString=gene*\":\"*alteration\n",
    "    # push to an output DF\n",
    "    push!(outputDF,[outputString,result.oncogenic,result.mutationEffect.knownEffect])\n",
    "end"
   ]
  },
  {
   "cell_type": "code",
   "execution_count": null,
   "id": "742d5919",
   "metadata": {},
   "outputs": [],
   "source": [
    "# write the output DF\n",
    "CSV.write(\"annotatedSNVs.csv\", outputDF)"
   ]
  },
  {
   "cell_type": "markdown",
   "id": "b66ef24b",
   "metadata": {},
   "source": [
    "### potentially useful code to modify snv names"
   ]
  },
  {
   "cell_type": "code",
   "execution_count": null,
   "id": "796e1579",
   "metadata": {},
   "outputs": [],
   "source": [
    "# create dict for aa single letter code\n",
    "TL_code = [\"Ala\",\"Arg\",\"Asn\",\"Asp\",\"Cys\",\"Glu\",\"Gln\",\"Gly\",\"His\",\"Ile\",\"Leu\",\"Lys\",\"Met\",\"Phe\",\"Pro\",\"Ser\",\n",
    "            \"Thr\",\"Trp\",\"Tyr\",\"Val\"]\n",
    "SL_code = [\"A\",\"R\",\"N\",\"D\",\"C\",\"E\",\"Q\",\"G\",\"H\",\"I\",\"L\",\"K\",\"M\",\"F\",\"P\",\"S\",\"T\",\"W\",\"Y\",\"V\"]\n",
    "aa_single = Dict()\n",
    "for i in 1:20\n",
    "    aa_single[TL_code[i]] = SL_code[i]\n",
    "end\n",
    "\n",
    "\n",
    "# convert first aa to single letter code\n",
    "SV_SLcode = []\n",
    "for i in 1:length(SVs)\n",
    "    SV = SVs[i]\n",
    "    TL = SV[1:3]\n",
    "    if TL in TL_code\n",
    "        SL = aa_single[TL]\n",
    "        push!(SV_SLcode, SL)\n",
    "    else \n",
    "        push!(SV_SLcode, TL)\n",
    "    end\n",
    "end\n",
    "SV_SLcode\n",
    "\n",
    "aa2_list = []\n",
    "pos_list = []\n",
    "for i in 1:length(SVs)\n",
    "    SV = SVs[i]\n",
    "    println(\"processing \"*SV)\n",
    "    if length(SV) < 10\n",
    "        if length(SV) > 3\n",
    "            l = length(SV)\n",
    "            aa2 = SV[(l-2):l]\n",
    "                if aa2 in TL_code\n",
    "                    SL = aa_single[aa2]\n",
    "                    push!(aa2_list, SL)\n",
    "                else \n",
    "                    push!(aa2_list, aa2)\n",
    "                end\n",
    "            pos = SV[1:(l-3)]\n",
    "            push!(pos_list, pos)\n",
    "        else\n",
    "            push!(aa2_list, SV)\n",
    "            push!(pos_list, SV)\n",
    "        end\n",
    "    elseif \"Ter\" in SV\n",
    "        push!(aa2_list, SV)\n",
    "        push!(pos_list, SV)\n",
    "    end\n",
    "end"
   ]
  }
 ],
 "metadata": {
  "kernelspec": {
   "display_name": "Julia 32 1.8.2",
   "language": "julia",
   "name": "julia-32-1.8"
  },
  "language_info": {
   "file_extension": ".jl",
   "mimetype": "application/julia",
   "name": "julia",
   "version": "1.8.2"
  }
 },
 "nbformat": 4,
 "nbformat_minor": 5
}
